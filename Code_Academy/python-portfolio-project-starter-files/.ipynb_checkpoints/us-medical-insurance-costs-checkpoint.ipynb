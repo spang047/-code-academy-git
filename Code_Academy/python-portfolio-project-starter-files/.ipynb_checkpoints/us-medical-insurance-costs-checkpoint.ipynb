{
 "cells": [
  {
   "cell_type": "markdown",
   "metadata": {},
   "source": [
    "# U.S. Medical Insurance Costs"
   ]
  },
  {
   "cell_type": "code",
   "execution_count": 50,
   "metadata": {},
   "outputs": [
    {
     "ename": "SyntaxError",
     "evalue": "invalid syntax (<ipython-input-50-2224da9132de>, line 24)",
     "output_type": "error",
     "traceback": [
      "\u001b[0;36m  File \u001b[0;32m\"<ipython-input-50-2224da9132de>\"\u001b[0;36m, line \u001b[0;32m24\u001b[0m\n\u001b[0;31m    if self.new_type = 'int':\u001b[0m\n\u001b[0m                     ^\u001b[0m\n\u001b[0;31mSyntaxError\u001b[0m\u001b[0;31m:\u001b[0m invalid syntax\n"
     ]
    }
   ],
   "source": [
    "import csv\n",
    "import statistics\n",
    "\n",
    "#class for pulling information from each dictionary\n",
    "class WranglingData:\n",
    "    def __init__(self):\n",
    "        pass\n",
    "        #print('Class for manipulating each dictionary')\n",
    "    \n",
    "    #define function for pulling values from dictionary\n",
    "    def reading_dictionary(self, dictionary, heading):\n",
    "        self.dictionary = dictionary\n",
    "        self.heading = heading\n",
    "        list_of_heading = []\n",
    "        \n",
    "        for line in self.dictionary:\n",
    "            list_of_heading.append(line[self.heading])\n",
    "        return list_of_heading\n",
    "    \n",
    "    #convert to int or float a list of strings and returns a list of ints or floats\n",
    "    def string_conversion(self, list_arg, new_type):\n",
    "        conversion_list = []\n",
    "        \n",
    "        if self.new_type = 'int':\n",
    "            for i in list_arg:\n",
    "                conversion_list.append(int(i))\n",
    "        elif self.new_type = 'float':\n",
    "            for i in list_arg:\n",
    "                conversion_list.append(float(i))\n",
    "        else:\n",
    "            print(\"Types can only be int or float\")\n",
    "        \n",
    "        return conversion_list\n",
    "            \n",
    "    #get the average value of data set heading\n",
    "    def data_average(self, dictionary, heading):\n",
    "            list_of_values = self.reading_dictionary(dictionary, heading)\n",
    "            new_values = []\n",
    "            #verify data is of type int or float\n",
    "            #for number in list_of_values: \n",
    "                #if type(number) != 'int' or 'float':\n",
    "                  #  print(type(number),'Data contains non ints or floats')\n",
    "                   # break\n",
    "            \n",
    "            #convert list to float and return average\n",
    "            for i in list_of_values:\n",
    "                new_values.append(float(i))\n",
    "            \n",
    "            return statistics.mean(new_values)\n",
    "\n",
    "\n",
    "with open('insurance.csv', newline = '\\n') as insurance_data:\n",
    "    new_insurance_data = csv.DictReader(insurance_data)\n",
    "    \n",
    "    health_data = WranglingData()\n",
    "    \n",
    "    print(health_data.data_average(new_insurance_data, 'age'))"
   ]
  },
  {
   "cell_type": "code",
   "execution_count": null,
   "metadata": {},
   "outputs": [],
   "source": []
  },
  {
   "cell_type": "code",
   "execution_count": null,
   "metadata": {},
   "outputs": [],
   "source": []
  },
  {
   "cell_type": "code",
   "execution_count": null,
   "metadata": {},
   "outputs": [],
   "source": []
  }
 ],
 "metadata": {
  "kernelspec": {
   "display_name": "Python 3",
   "language": "python",
   "name": "python3"
  },
  "language_info": {
   "codemirror_mode": {
    "name": "ipython",
    "version": 3
   },
   "file_extension": ".py",
   "mimetype": "text/x-python",
   "name": "python",
   "nbconvert_exporter": "python",
   "pygments_lexer": "ipython3",
   "version": "3.8.5"
  }
 },
 "nbformat": 4,
 "nbformat_minor": 4
}
